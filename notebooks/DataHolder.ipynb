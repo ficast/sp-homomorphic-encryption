{
 "cells": [
  {
   "cell_type": "code",
   "execution_count": 1,
   "metadata": {},
   "outputs": [],
   "source": [
    "import tenseal as ts\n",
    "import utils"
   ]
  },
  {
   "cell_type": "markdown",
   "metadata": {},
   "source": [
    "# generate keys"
   ]
  },
  {
   "cell_type": "code",
   "execution_count": 2,
   "metadata": {},
   "outputs": [],
   "source": [
    "context = ts.Context(\n",
    "    ts.SCHEME_TYPE.CKKS,\n",
    "    poly_modulus_degree=8192,\n",
    "    coeff_mod_bit_sizes=[60, 40, 40, 60]\n",
    ")"
   ]
  },
  {
   "cell_type": "code",
   "execution_count": 3,
   "metadata": {},
   "outputs": [],
   "source": [
    "context.generate_galois_keys()\n",
    "context.global_scale = 2 ** 40"
   ]
  },
  {
   "cell_type": "code",
   "execution_count": 4,
   "metadata": {},
   "outputs": [],
   "source": [
    "secret_context = context.serialize(save_secret_key=True)\n",
    "utils.write_data(\"keys/secret.txt\", secret_context)"
   ]
  },
  {
   "cell_type": "code",
   "execution_count": 5,
   "metadata": {},
   "outputs": [],
   "source": [
    "context.make_context_public() # drops private key\n",
    "public_context = context.serialize()\n",
    "utils.write_data(\"keys/public.txt\", public_context)"
   ]
  },
  {
   "cell_type": "markdown",
   "metadata": {},
   "source": [
    "# encrypt"
   ]
  },
  {
   "cell_type": "code",
   "execution_count": 6,
   "metadata": {},
   "outputs": [],
   "source": [
    "context = ts.context_from(utils.read_data(\"keys/secret.txt\"))"
   ]
  },
  {
   "cell_type": "code",
   "execution_count": 7,
   "metadata": {},
   "outputs": [
    {
     "data": {
      "text/plain": [
       "array([[0, 0, 1, ..., 0, 0, 0],\n",
       "       [0, 0, 0, ..., 1, 0, 0],\n",
       "       [0, 0, 0, ..., 0, 1, 0],\n",
       "       ...,\n",
       "       [0, 0, 0, ..., 1, 0, 0],\n",
       "       [1, 0, 0, ..., 0, 0, 0],\n",
       "       [0, 0, 0, ..., 0, 1, 0]])"
      ]
     },
     "execution_count": 7,
     "metadata": {},
     "output_type": "execute_result"
    }
   ],
   "source": [
    "import pandas as pd\n",
    "from sklearn.preprocessing import OneHotEncoder, LabelEncoder\n",
    "\n",
    "encoder = OneHotEncoder(\n",
    "    sparse_output=False,\n",
    "    dtype=int\n",
    ")\n",
    "\n",
    "df = pd.read_csv(\"../data/votes.csv\")\n",
    "\n",
    "candidatos = encoder.fit_transform(df[[\"Candidates\"]])\n",
    "\n",
    "candidatos"
   ]
  },
  {
   "cell_type": "code",
   "execution_count": 8,
   "metadata": {},
   "outputs": [],
   "source": [
    "for i, candidato in enumerate(candidatos):\n",
    "    candidatos_enc = ts.ckks_vector(context, candidato)\n",
    "    if i == 0:\n",
    "        utils.write_data(\"outputs/candidatos_enc.txt\", candidatos_enc.serialize())\n",
    "    else:\n",
    "        utils.write_data_append(\"outputs/candidatos_enc.txt\", candidatos_enc.serialize())"
   ]
  },
  {
   "cell_type": "markdown",
   "metadata": {},
   "source": [
    "# decryption"
   ]
  },
  {
   "cell_type": "code",
   "execution_count": 9,
   "metadata": {},
   "outputs": [],
   "source": [
    "m_proto = utils.read_data(\"outputs/soma.txt\")\n",
    "m = ts.lazy_ckks_vector_from(m_proto)\n",
    "m.link_context(context)"
   ]
  },
  {
   "cell_type": "code",
   "execution_count": 10,
   "metadata": {},
   "outputs": [
    {
     "name": "stdout",
     "output_type": "stream",
     "text": [
      "Branco: 95\n",
      "Emanuel: 100\n",
      "Filipa: 398\n",
      "Maria: 49\n",
      "Marta: 213\n",
      "Nulo: 105\n",
      "Nuno: 39\n"
     ]
    }
   ],
   "source": [
    "votos_finais = m.decrypt()\n",
    "\n",
    "# Get the mapping of numbers (columns) to candidate names\n",
    "column_mapping = dict(enumerate(encoder.categories_[0]))\n",
    "\n",
    "# Display the final votes\n",
    "for number, votes in enumerate(votos_finais):\n",
    "    print(f\"{column_mapping[number]}: {votes:.0f}\")"
   ]
  }
 ],
 "metadata": {
  "kernelspec": {
   "display_name": "SP",
   "language": "python",
   "name": "python3"
  },
  "language_info": {
   "codemirror_mode": {
    "name": "ipython",
    "version": 3
   },
   "file_extension": ".py",
   "mimetype": "text/x-python",
   "name": "python",
   "nbconvert_exporter": "python",
   "pygments_lexer": "ipython3",
   "version": "3.12.7"
  }
 },
 "nbformat": 4,
 "nbformat_minor": 2
}
