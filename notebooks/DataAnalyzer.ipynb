{
 "cells": [
  {
   "cell_type": "code",
   "execution_count": 18,
   "metadata": {},
   "outputs": [],
   "source": [
    "import tenseal as ts\n",
    "import utils"
   ]
  },
  {
   "cell_type": "code",
   "execution_count": 19,
   "metadata": {},
   "outputs": [],
   "source": [
    "context = ts.context_from(utils.read_data(\"keys/public.txt\"))"
   ]
  },
  {
   "cell_type": "markdown",
   "metadata": {},
   "source": [
    "# calculations"
   ]
  },
  {
   "cell_type": "code",
   "execution_count": 20,
   "metadata": {},
   "outputs": [],
   "source": [
    "candidatos_proto = utils.read_data_split(\"outputs/candidatos_enc.txt\")\n",
    "\n",
    "candidatos_lista = []\n",
    "\n",
    "for candidato in candidatos_proto:\n",
    "    candidatos_enc = ts.lazy_ckks_vector_from(candidato)\n",
    "    candidatos_enc.link_context(context)\n",
    "    candidatos_lista.append(candidatos_enc)\n"
   ]
  },
  {
   "cell_type": "code",
   "execution_count": 21,
   "metadata": {},
   "outputs": [],
   "source": [
    "sum = ts.plain_tensor([0, 0, 0, 0, 0, 0, 0])\n",
    "\n",
    "for i, candidato in enumerate(candidatos_lista[:-1]):\n",
    "    sum += candidato\n",
    "\n",
    "utils.write_data(\"outputs/soma.txt\", sum.serialize())"
   ]
  }
 ],
 "metadata": {
  "kernelspec": {
   "display_name": "SP",
   "language": "python",
   "name": "python3"
  },
  "language_info": {
   "codemirror_mode": {
    "name": "ipython",
    "version": 3
   },
   "file_extension": ".py",
   "mimetype": "text/x-python",
   "name": "python",
   "nbconvert_exporter": "python",
   "pygments_lexer": "ipython3",
   "version": "3.12.7"
  }
 },
 "nbformat": 4,
 "nbformat_minor": 2
}
